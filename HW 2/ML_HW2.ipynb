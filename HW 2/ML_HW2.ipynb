{
 "cells": [
  {
   "cell_type": "code",
   "execution_count": 58,
   "id": "899f0c84-8176-49b0-a7d3-0a032c92e1a2",
   "metadata": {
    "tags": []
   },
   "outputs": [],
   "source": [
    "import numpy as np\n",
    "import pandas as pd\n",
    "from matplotlib import pyplot as plt\n",
    "\n",
    "import optuna\n",
    "from optuna.visualization import plot_slice\n",
    "\n",
    "from sklearn.preprocessing import StandardScaler\n",
    "from sklearn.model_selection import train_test_split\n",
    "from sklearn.metrics import fbeta_score, make_scorer\n",
    "from sklearn.inspection import permutation_importance\n",
    "from sklearn.ensemble import RandomForestClassifier\n",
    "\n",
    "import tensorflow as tf\n",
    "from tensorflow.keras import Sequential\n",
    "from tensorflow.keras.layers import Dense, Input"
   ]
  },
  {
   "cell_type": "markdown",
   "id": "0702c4bb-d7e2-43af-ad81-1e983e32a444",
   "metadata": {},
   "source": [
    "# Task 2"
   ]
  },
  {
   "cell_type": "markdown",
   "id": "904d1a9f-9f27-4dfb-8271-90a3e6d07726",
   "metadata": {},
   "source": [
    "# Task 2.1 – Train more complicated model"
   ]
  },
  {
   "cell_type": "markdown",
   "id": "2eceb044-9984-45ee-a517-00866c46bd01",
   "metadata": {},
   "source": [
    "For this task I choose two models: neural network and random forest. In general, you can say that neural networks as \"generally better everywhere\", but it is known that decision trees are very good at classificaion. So, we will compare :)"
   ]
  },
  {
   "cell_type": "markdown",
   "id": "5ce75eb9-ffc7-4c28-be03-98c28c4664cf",
   "metadata": {},
   "source": [
    "Before we start we once again prepare dataset"
   ]
  },
  {
   "cell_type": "code",
   "execution_count": null,
   "id": "22439469-edd2-4ad9-9144-4be987f356f4",
   "metadata": {
    "tags": []
   },
   "outputs": [],
   "source": [
    "data = pd.read_csv(\"apple_quality.csv\")\n",
    "data.drop([data.shape[0]-1], inplace=True)\n",
    "data.drop(columns=data.columns[0], axis=1, inplace=True)\n",
    "\n",
    "data[\"Acidity\"] = data[\"Acidity\"].astype(float)\n",
    "data['Quality'].replace({\"bad\":0, \"good\":1}, inplace=True)\n",
    "\n",
    "features = data.drop(columns=\"Quality\", axis=1)\n",
    "scaler = StandardScaler().fit(features.values)\n",
    "features_scaled = pd.DataFrame(scaler.transform(features.values), columns=features.columns)\n",
    "\n",
    "X_train, X_test, y_train, y_test = train_test_split(features_scaled, data[\"Quality\"], random_state = 1024)\n",
    "X_train, X_val, y_train, y_val = train_test_split(X_train, y_train, random_state = 1024)"
   ]
  },
  {
   "cell_type": "markdown",
   "id": "750dd4e5-46b3-4a3c-a4bc-fb02afd86938",
   "metadata": {},
   "source": [
    "And set hyperparameters that we will not optimize."
   ]
  },
  {
   "cell_type": "code",
   "execution_count": 38,
   "id": "a6daa993-efe6-41c6-b796-070d72cd8425",
   "metadata": {},
   "outputs": [],
   "source": [
    "# fixed random seed for tensorflow\n",
    "tf.random.set_seed(1024)\n",
    "\n",
    "# number of neurons in the input and output layers. n_input = n_features, n_output = 1 since we have only 1 number as an output (we have classification w 2 classes)\n",
    "n_input = np.shape(X_train)[1]\n",
    "n_output = 1\n",
    "\n",
    "# number of epochs to train NN\n",
    "epochs = 50"
   ]
  },
  {
   "cell_type": "markdown",
   "id": "58e0c22c-e26d-428d-92d0-04d422c7ef8f",
   "metadata": {},
   "source": [
    "Then we create optuna objective function to find best classifier and best hyperparameters for him.\n",
    "\n",
    "Hyperparameters for NN:\n",
    "1) number of hidden layers (from 1 to 4);\n",
    "2) number of neurons in each hidden layer (from 2 to 30);\n",
    "3) learning rate (from 0.01 to 0.1).\n",
    "    \n",
    "As a loss function we use binary cross-entropy since we have classificaion task. We also use [Adam](https://arxiv.org/abs/1412.6980) optimizer for faster learning.\n",
    "\n",
    "Hyperparameters for Random Forest:\n",
    "1) number of estimators;\n",
    "2) depth of each estimator.\n",
    "\n",
    "We want optuna to maximize $F_2$ score."
   ]
  },
  {
   "cell_type": "code",
   "execution_count": 39,
   "id": "a3adc44d-e4ab-48d7-b06a-6055c8f3fc11",
   "metadata": {},
   "outputs": [],
   "source": [
    "def objective(trial):\n",
    "    model_type = trial.suggest_categorical(\"classifier\", [\"neural_network\", \"random_forest\"])\n",
    "    \n",
    "    if model_type == \"neural_network\":\n",
    "        num_layers = trial.suggest_int(\"num_layers\", 1, 4)\n",
    "        n_hidden = trial.suggest_int(\"n_hidden\", 2, 30)\n",
    "        learning_rate = trial.suggest_float(\"learning_rate\", 0.01, 0.1)\n",
    "\n",
    "        tf.keras.backend.clear_session()\n",
    "        model = Sequential([\n",
    "                Input(n_input),\n",
    "            ])\n",
    "\n",
    "        for ind in range(num_layers):\n",
    "            model.add(Dense(n_hidden, activation='relu'))\n",
    "        model.add(Dense(n_output, name=\"output_layer\"))\n",
    "        \n",
    "        model.compile(\n",
    "            loss = tf.keras.losses.BinaryCrossentropy(), optimizer = tf.keras.optimizers.Adam(learning_rate=learning_rate),\n",
    "        )\n",
    "        \n",
    "        model.fit(X_train, y_train, epochs=epochs, verbose=0)\n",
    "        y_hat = (model.predict(X_val, verbose=0) > 0.5).astype(int)\n",
    "    \n",
    "    else:\n",
    "        num_classifiers = trial.suggest_int(\"num_classifiers\", 2, 30)\n",
    "        max_depth = trial.suggest_int(\"max_depth\", 2, 30)\n",
    "        \n",
    "        model = RandomForestClassifier(n_estimators = num_classifiers, max_depth = max_depth, random_state=1024, verbose=0)\n",
    "        model.fit(X_train, y_train)\n",
    "        y_hat = model.predict(X_val)\n",
    "    \n",
    "    return fbeta_score(y_hat, y_val, beta=2)"
   ]
  },
  {
   "cell_type": "code",
   "execution_count": 24,
   "id": "41604eb1-918c-4424-9678-a119e699b1dc",
   "metadata": {},
   "outputs": [
    {
     "name": "stderr",
     "output_type": "stream",
     "text": [
      "[I 2024-02-22 19:27:23,301] A new study created in memory with name: no-name-08bf23ed-702d-4c4e-8ee8-0f827a5c6c1f\n",
      "[I 2024-02-22 19:27:28,416] Trial 0 finished with value: 0.8058345289335246 and parameters: {'classifier': 'neural_network', 'num_layers': 2, 'n_hidden': 28, 'learning_rate': 0.030762695901187007}. Best is trial 0 with value: 0.8058345289335246.\n",
      "[I 2024-02-22 19:27:28,461] Trial 1 finished with value: 0.7633221315410467 and parameters: {'classifier': 'random_forest', 'num_classifiers': 10, 'max_depth': 4}. Best is trial 0 with value: 0.8058345289335246.\n",
      "[I 2024-02-22 19:27:28,492] Trial 2 finished with value: 0.8338092518560822 and parameters: {'classifier': 'random_forest', 'num_classifiers': 4, 'max_depth': 29}. Best is trial 2 with value: 0.8338092518560822.\n",
      "[I 2024-02-22 19:27:28,571] Trial 3 finished with value: 0.8552958727001492 and parameters: {'classifier': 'random_forest', 'num_classifiers': 13, 'max_depth': 26}. Best is trial 3 with value: 0.8552958727001492.\n",
      "[I 2024-02-22 19:27:32,868] Trial 4 finished with value: 0.7531610775151182 and parameters: {'classifier': 'neural_network', 'num_layers': 1, 'n_hidden': 11, 'learning_rate': 0.09992472099937844}. Best is trial 3 with value: 0.8552958727001492.\n",
      "[I 2024-02-22 19:27:37,767] Trial 5 finished with value: 0.0 and parameters: {'classifier': 'neural_network', 'num_layers': 3, 'n_hidden': 5, 'learning_rate': 0.08940410199273693}. Best is trial 3 with value: 0.8552958727001492.\n",
      "[I 2024-02-22 19:27:37,849] Trial 6 finished with value: 0.8628659476117103 and parameters: {'classifier': 'random_forest', 'num_classifiers': 14, 'max_depth': 23}. Best is trial 6 with value: 0.8628659476117103.\n",
      "[I 2024-02-22 19:27:42,452] Trial 7 finished with value: 0.7310504040015392 and parameters: {'classifier': 'neural_network', 'num_layers': 2, 'n_hidden': 14, 'learning_rate': 0.04517965055295943}. Best is trial 6 with value: 0.8628659476117103.\n",
      "[I 2024-02-22 19:27:46,761] Trial 8 finished with value: 0.7804168686379059 and parameters: {'classifier': 'neural_network', 'num_layers': 1, 'n_hidden': 21, 'learning_rate': 0.060274191253486396}. Best is trial 6 with value: 0.8628659476117103.\n",
      "[I 2024-02-22 19:27:46,904] Trial 9 finished with value: 0.8650338718082335 and parameters: {'classifier': 'random_forest', 'num_classifiers': 26, 'max_depth': 24}. Best is trial 9 with value: 0.8650338718082335.\n",
      "[I 2024-02-22 19:27:47,077] Trial 10 finished with value: 0.8591764107778342 and parameters: {'classifier': 'random_forest', 'num_classifiers': 30, 'max_depth': 16}. Best is trial 9 with value: 0.8650338718082335.\n",
      "[I 2024-02-22 19:27:47,220] Trial 11 finished with value: 0.8612686952037132 and parameters: {'classifier': 'random_forest', 'num_classifiers': 24, 'max_depth': 20}. Best is trial 9 with value: 0.8650338718082335.\n",
      "[I 2024-02-22 19:27:47,344] Trial 12 finished with value: 0.8583800305654609 and parameters: {'classifier': 'random_forest', 'num_classifiers': 20, 'max_depth': 21}. Best is trial 9 with value: 0.8650338718082335.\n",
      "[I 2024-02-22 19:27:47,459] Trial 13 finished with value: 0.850632911392405 and parameters: {'classifier': 'random_forest', 'num_classifiers': 18, 'max_depth': 16}. Best is trial 9 with value: 0.8650338718082335.\n",
      "[I 2024-02-22 19:27:47,637] Trial 14 finished with value: 0.8684347373894955 and parameters: {'classifier': 'random_forest', 'num_classifiers': 30, 'max_depth': 23}. Best is trial 14 with value: 0.8684347373894955.\n",
      "[I 2024-02-22 19:27:47,805] Trial 15 finished with value: 0.8490086426029486 and parameters: {'classifier': 'random_forest', 'num_classifiers': 30, 'max_depth': 11}. Best is trial 14 with value: 0.8684347373894955.\n",
      "[I 2024-02-22 19:27:47,955] Trial 16 finished with value: 0.8590197069226881 and parameters: {'classifier': 'random_forest', 'num_classifiers': 25, 'max_depth': 29}. Best is trial 14 with value: 0.8684347373894955.\n",
      "[I 2024-02-22 19:27:48,104] Trial 17 finished with value: 0.8590197069226881 and parameters: {'classifier': 'random_forest', 'num_classifiers': 25, 'max_depth': 24}. Best is trial 14 with value: 0.8684347373894955.\n",
      "[I 2024-02-22 19:27:48,271] Trial 18 finished with value: 0.8490086426029486 and parameters: {'classifier': 'random_forest', 'num_classifiers': 30, 'max_depth': 11}. Best is trial 14 with value: 0.8684347373894955.\n",
      "[I 2024-02-22 19:27:48,405] Trial 19 finished with value: 0.8656330749354003 and parameters: {'classifier': 'random_forest', 'num_classifiers': 22, 'max_depth': 19}. Best is trial 14 with value: 0.8684347373894955.\n",
      "[I 2024-02-22 19:27:48,534] Trial 20 finished with value: 0.8604302151075538 and parameters: {'classifier': 'random_forest', 'num_classifiers': 21, 'max_depth': 18}. Best is trial 14 with value: 0.8684347373894955.\n",
      "[I 2024-02-22 19:27:48,690] Trial 21 finished with value: 0.8650338718082335 and parameters: {'classifier': 'random_forest', 'num_classifiers': 26, 'max_depth': 24}. Best is trial 14 with value: 0.8684347373894955.\n",
      "[I 2024-02-22 19:27:48,852] Trial 22 finished with value: 0.8528095474888115 and parameters: {'classifier': 'random_forest', 'num_classifiers': 27, 'max_depth': 14}. Best is trial 14 with value: 0.8684347373894955.\n",
      "[I 2024-02-22 19:27:48,988] Trial 23 finished with value: 0.8662224500256278 and parameters: {'classifier': 'random_forest', 'num_classifiers': 22, 'max_depth': 20}. Best is trial 14 with value: 0.8684347373894955.\n",
      "[I 2024-02-22 19:27:49,119] Trial 24 finished with value: 0.8605938600905888 and parameters: {'classifier': 'random_forest', 'num_classifiers': 21, 'max_depth': 19}. Best is trial 14 with value: 0.8684347373894955.\n",
      "[I 2024-02-22 19:27:49,227] Trial 25 finished with value: 0.8596582081822891 and parameters: {'classifier': 'random_forest', 'num_classifiers': 17, 'max_depth': 12}. Best is trial 14 with value: 0.8684347373894955.\n",
      "[I 2024-02-22 19:27:54,708] Trial 26 finished with value: 0.0 and parameters: {'classifier': 'neural_network', 'num_layers': 4, 'n_hidden': 30, 'learning_rate': 0.020667235214715488}. Best is trial 14 with value: 0.8684347373894955.\n",
      "[I 2024-02-22 19:27:54,857] Trial 27 finished with value: 0.8571428571428573 and parameters: {'classifier': 'random_forest', 'num_classifiers': 23, 'max_depth': 21}. Best is trial 14 with value: 0.8684347373894955.\n",
      "[I 2024-02-22 19:27:54,939] Trial 28 finished with value: 0.8551617873651772 and parameters: {'classifier': 'random_forest', 'num_classifiers': 10, 'max_depth': 17}. Best is trial 14 with value: 0.8684347373894955.\n",
      "[I 2024-02-22 19:28:00,873] Trial 29 finished with value: 0.0 and parameters: {'classifier': 'neural_network', 'num_layers': 4, 'n_hidden': 5, 'learning_rate': 0.07187959023095991}. Best is trial 14 with value: 0.8684347373894955.\n",
      "[I 2024-02-22 19:28:00,976] Trial 30 finished with value: 0.8296622613803231 and parameters: {'classifier': 'random_forest', 'num_classifiers': 19, 'max_depth': 7}. Best is trial 14 with value: 0.8684347373894955.\n",
      "[I 2024-02-22 19:28:01,141] Trial 31 finished with value: 0.8632345293811753 and parameters: {'classifier': 'random_forest', 'num_classifiers': 28, 'max_depth': 26}. Best is trial 14 with value: 0.8684347373894955.\n",
      "[I 2024-02-22 19:28:01,281] Trial 32 finished with value: 0.859808371154816 and parameters: {'classifier': 'random_forest', 'num_classifiers': 23, 'max_depth': 22}. Best is trial 14 with value: 0.8684347373894955.\n",
      "[I 2024-02-22 19:28:01,446] Trial 33 finished with value: 0.8632345293811753 and parameters: {'classifier': 'random_forest', 'num_classifiers': 28, 'max_depth': 26}. Best is trial 14 with value: 0.8684347373894955.\n",
      "[I 2024-02-22 19:28:01,580] Trial 34 finished with value: 0.8646423057128151 and parameters: {'classifier': 'random_forest', 'num_classifiers': 22, 'max_depth': 24}. Best is trial 14 with value: 0.8684347373894955.\n",
      "[I 2024-02-22 19:28:01,739] Trial 35 finished with value: 0.8638473439917482 and parameters: {'classifier': 'random_forest', 'num_classifiers': 27, 'max_depth': 19}. Best is trial 14 with value: 0.8684347373894955.\n",
      "[I 2024-02-22 19:28:01,885] Trial 36 finished with value: 0.8654340010272213 and parameters: {'classifier': 'random_forest', 'num_classifiers': 24, 'max_depth': 27}. Best is trial 14 with value: 0.8684347373894955.\n",
      "[I 2024-02-22 19:28:07,054] Trial 37 finished with value: 0.7093821510297482 and parameters: {'classifier': 'neural_network', 'num_layers': 3, 'n_hidden': 20, 'learning_rate': 0.014919165796860506}. Best is trial 14 with value: 0.8684347373894955.\n",
      "[I 2024-02-22 19:28:07,174] Trial 38 finished with value: 0.8546365914786969 and parameters: {'classifier': 'random_forest', 'num_classifiers': 19, 'max_depth': 30}. Best is trial 14 with value: 0.8684347373894955.\n",
      "[I 2024-02-22 19:28:07,274] Trial 39 finished with value: 0.8604302151075538 and parameters: {'classifier': 'random_forest', 'num_classifiers': 15, 'max_depth': 27}. Best is trial 14 with value: 0.8684347373894955.\n",
      "[I 2024-02-22 19:28:12,866] Trial 40 finished with value: 0.0 and parameters: {'classifier': 'neural_network', 'num_layers': 4, 'n_hidden': 2, 'learning_rate': 0.07475326044452325}. Best is trial 14 with value: 0.8684347373894955.\n",
      "[I 2024-02-22 19:28:13,013] Trial 41 finished with value: 0.8561113976276431 and parameters: {'classifier': 'random_forest', 'num_classifiers': 24, 'max_depth': 22}. Best is trial 14 with value: 0.8684347373894955.\n",
      "[I 2024-02-22 19:28:13,044] Trial 42 finished with value: 0.6794162053346754 and parameters: {'classifier': 'random_forest', 'num_classifiers': 3, 'max_depth': 2}. Best is trial 14 with value: 0.8684347373894955.\n",
      "[I 2024-02-22 19:28:13,217] Trial 43 finished with value: 0.8632345293811753 and parameters: {'classifier': 'random_forest', 'num_classifiers': 28, 'max_depth': 28}. Best is trial 14 with value: 0.8684347373894955.\n",
      "[I 2024-02-22 19:28:13,372] Trial 44 finished with value: 0.8650338718082335 and parameters: {'classifier': 'random_forest', 'num_classifiers': 26, 'max_depth': 25}. Best is trial 14 with value: 0.8684347373894955.\n",
      "[I 2024-02-22 19:28:13,509] Trial 45 finished with value: 0.8646423057128151 and parameters: {'classifier': 'random_forest', 'num_classifiers': 22, 'max_depth': 23}. Best is trial 14 with value: 0.8684347373894955.\n",
      "[I 2024-02-22 19:28:13,573] Trial 46 finished with value: 0.8548812664907651 and parameters: {'classifier': 'random_forest', 'num_classifiers': 8, 'max_depth': 20}. Best is trial 14 with value: 0.8684347373894955.\n",
      "[I 2024-02-22 19:28:13,743] Trial 47 finished with value: 0.8654340010272213 and parameters: {'classifier': 'random_forest', 'num_classifiers': 29, 'max_depth': 27}. Best is trial 14 with value: 0.8684347373894955.\n",
      "[I 2024-02-22 19:28:18,915] Trial 48 finished with value: 0.7184325108853411 and parameters: {'classifier': 'neural_network', 'num_layers': 2, 'n_hidden': 25, 'learning_rate': 0.04246359762132461}. Best is trial 14 with value: 0.8684347373894955.\n",
      "[I 2024-02-22 19:28:19,099] Trial 49 finished with value: 0.8654340010272213 and parameters: {'classifier': 'random_forest', 'num_classifiers': 29, 'max_depth': 28}. Best is trial 14 with value: 0.8684347373894955.\n",
      "[I 2024-02-22 19:28:19,190] Trial 50 finished with value: 0.8547655068078669 and parameters: {'classifier': 'random_forest', 'num_classifiers': 13, 'max_depth': 14}. Best is trial 14 with value: 0.8684347373894955.\n",
      "[I 2024-02-22 19:28:19,359] Trial 51 finished with value: 0.8654340010272213 and parameters: {'classifier': 'random_forest', 'num_classifiers': 29, 'max_depth': 28}. Best is trial 14 with value: 0.8684347373894955.\n",
      "[I 2024-02-22 19:28:19,537] Trial 52 finished with value: 0.8684347373894955 and parameters: {'classifier': 'random_forest', 'num_classifiers': 30, 'max_depth': 30}. Best is trial 14 with value: 0.8684347373894955.\n",
      "[I 2024-02-22 19:28:19,713] Trial 53 finished with value: 0.8684347373894955 and parameters: {'classifier': 'random_forest', 'num_classifiers': 30, 'max_depth': 30}. Best is trial 14 with value: 0.8684347373894955.\n",
      "[I 2024-02-22 19:28:19,891] Trial 54 finished with value: 0.8684347373894955 and parameters: {'classifier': 'random_forest', 'num_classifiers': 30, 'max_depth': 30}. Best is trial 14 with value: 0.8684347373894955.\n",
      "[I 2024-02-22 19:28:20,070] Trial 55 finished with value: 0.8684347373894955 and parameters: {'classifier': 'random_forest', 'num_classifiers': 30, 'max_depth': 30}. Best is trial 14 with value: 0.8684347373894955.\n",
      "[I 2024-02-22 19:28:20,249] Trial 56 finished with value: 0.8684347373894955 and parameters: {'classifier': 'random_forest', 'num_classifiers': 30, 'max_depth': 30}. Best is trial 14 with value: 0.8684347373894955.\n",
      "[I 2024-02-22 19:28:20,414] Trial 57 finished with value: 0.8583800305654609 and parameters: {'classifier': 'random_forest', 'num_classifiers': 27, 'max_depth': 30}. Best is trial 14 with value: 0.8684347373894955.\n",
      "[I 2024-02-22 19:28:20,602] Trial 58 finished with value: 0.8684347373894955 and parameters: {'classifier': 'random_forest', 'num_classifiers': 30, 'max_depth': 30}. Best is trial 14 with value: 0.8684347373894955.\n",
      "[I 2024-02-22 19:28:20,782] Trial 59 finished with value: 0.8684347373894955 and parameters: {'classifier': 'random_forest', 'num_classifiers': 30, 'max_depth': 29}. Best is trial 14 with value: 0.8684347373894955.\n",
      "[I 2024-02-22 19:28:20,959] Trial 60 finished with value: 0.8654340010272213 and parameters: {'classifier': 'random_forest', 'num_classifiers': 29, 'max_depth': 29}. Best is trial 14 with value: 0.8684347373894955.\n",
      "[I 2024-02-22 19:28:21,137] Trial 61 finished with value: 0.8684347373894955 and parameters: {'classifier': 'random_forest', 'num_classifiers': 30, 'max_depth': 30}. Best is trial 14 with value: 0.8684347373894955.\n",
      "[I 2024-02-22 19:28:21,328] Trial 62 finished with value: 0.8684347373894955 and parameters: {'classifier': 'random_forest', 'num_classifiers': 30, 'max_depth': 30}. Best is trial 14 with value: 0.8684347373894955.\n",
      "[I 2024-02-22 19:28:21,508] Trial 63 finished with value: 0.8632345293811753 and parameters: {'classifier': 'random_forest', 'num_classifiers': 28, 'max_depth': 29}. Best is trial 14 with value: 0.8684347373894955.\n",
      "[I 2024-02-22 19:28:21,681] Trial 64 finished with value: 0.8650338718082335 and parameters: {'classifier': 'random_forest', 'num_classifiers': 26, 'max_depth': 28}. Best is trial 14 with value: 0.8684347373894955.\n",
      "[I 2024-02-22 19:28:21,868] Trial 65 finished with value: 0.8684347373894955 and parameters: {'classifier': 'random_forest', 'num_classifiers': 30, 'max_depth': 30}. Best is trial 14 with value: 0.8684347373894955.\n",
      "[I 2024-02-22 19:28:27,165] Trial 66 finished with value: 0.0 and parameters: {'classifier': 'neural_network', 'num_layers': 3, 'n_hidden': 10, 'learning_rate': 0.0604106281657583}. Best is trial 14 with value: 0.8684347373894955.\n",
      "[I 2024-02-22 19:28:27,340] Trial 67 finished with value: 0.8632345293811753 and parameters: {'classifier': 'random_forest', 'num_classifiers': 28, 'max_depth': 26}. Best is trial 14 with value: 0.8684347373894955.\n",
      "[I 2024-02-22 19:28:27,508] Trial 68 finished with value: 0.8583800305654609 and parameters: {'classifier': 'random_forest', 'num_classifiers': 27, 'max_depth': 28}. Best is trial 14 with value: 0.8684347373894955.\n",
      "[I 2024-02-22 19:28:27,679] Trial 69 finished with value: 0.8654340010272213 and parameters: {'classifier': 'random_forest', 'num_classifiers': 29, 'max_depth': 29}. Best is trial 14 with value: 0.8684347373894955.\n",
      "[I 2024-02-22 19:28:27,859] Trial 70 finished with value: 0.8684347373894955 and parameters: {'classifier': 'random_forest', 'num_classifiers': 30, 'max_depth': 27}. Best is trial 14 with value: 0.8684347373894955.\n",
      "[I 2024-02-22 19:28:28,038] Trial 71 finished with value: 0.8684347373894955 and parameters: {'classifier': 'random_forest', 'num_classifiers': 30, 'max_depth': 29}. Best is trial 14 with value: 0.8684347373894955.\n",
      "[I 2024-02-22 19:28:28,209] Trial 72 finished with value: 0.8654340010272213 and parameters: {'classifier': 'random_forest', 'num_classifiers': 29, 'max_depth': 30}. Best is trial 14 with value: 0.8684347373894955.\n",
      "[I 2024-02-22 19:28:28,372] Trial 73 finished with value: 0.8583800305654609 and parameters: {'classifier': 'random_forest', 'num_classifiers': 27, 'max_depth': 29}. Best is trial 14 with value: 0.8684347373894955.\n",
      "[I 2024-02-22 19:28:28,549] Trial 74 finished with value: 0.8684347373894955 and parameters: {'classifier': 'random_forest', 'num_classifiers': 30, 'max_depth': 26}. Best is trial 14 with value: 0.8684347373894955.\n",
      "[I 2024-02-22 19:28:28,703] Trial 75 finished with value: 0.8650338718082335 and parameters: {'classifier': 'random_forest', 'num_classifiers': 26, 'max_depth': 25}. Best is trial 14 with value: 0.8684347373894955.\n",
      "[I 2024-02-22 19:28:28,868] Trial 76 finished with value: 0.8632345293811753 and parameters: {'classifier': 'random_forest', 'num_classifiers': 28, 'max_depth': 30}. Best is trial 14 with value: 0.8684347373894955.\n",
      "[I 2024-02-22 19:28:29,019] Trial 77 finished with value: 0.8590197069226881 and parameters: {'classifier': 'random_forest', 'num_classifiers': 25, 'max_depth': 28}. Best is trial 14 with value: 0.8684347373894955.\n",
      "[I 2024-02-22 19:28:33,363] Trial 78 finished with value: 0.7764782326185835 and parameters: {'classifier': 'neural_network', 'num_layers': 1, 'n_hidden': 18, 'learning_rate': 0.035071083393228605}. Best is trial 14 with value: 0.8684347373894955.\n",
      "[I 2024-02-22 19:28:33,535] Trial 79 finished with value: 0.8654340010272213 and parameters: {'classifier': 'random_forest', 'num_classifiers': 29, 'max_depth': 25}. Best is trial 14 with value: 0.8684347373894955.\n",
      "[I 2024-02-22 19:28:33,711] Trial 80 finished with value: 0.8684347373894955 and parameters: {'classifier': 'random_forest', 'num_classifiers': 30, 'max_depth': 29}. Best is trial 14 with value: 0.8684347373894955.\n",
      "[I 2024-02-22 19:28:33,887] Trial 81 finished with value: 0.8684347373894955 and parameters: {'classifier': 'random_forest', 'num_classifiers': 30, 'max_depth': 30}. Best is trial 14 with value: 0.8684347373894955.\n",
      "[I 2024-02-22 19:28:34,056] Trial 82 finished with value: 0.8632345293811753 and parameters: {'classifier': 'random_forest', 'num_classifiers': 28, 'max_depth': 30}. Best is trial 14 with value: 0.8684347373894955.\n",
      "[I 2024-02-22 19:28:34,229] Trial 83 finished with value: 0.8654340010272213 and parameters: {'classifier': 'random_forest', 'num_classifiers': 29, 'max_depth': 27}. Best is trial 14 with value: 0.8684347373894955.\n",
      "[I 2024-02-22 19:28:34,406] Trial 84 finished with value: 0.8684347373894955 and parameters: {'classifier': 'random_forest', 'num_classifiers': 30, 'max_depth': 29}. Best is trial 14 with value: 0.8684347373894955.\n",
      "[I 2024-02-22 19:28:34,577] Trial 85 finished with value: 0.8654340010272213 and parameters: {'classifier': 'random_forest', 'num_classifiers': 29, 'max_depth': 28}. Best is trial 14 with value: 0.8684347373894955.\n",
      "[I 2024-02-22 19:28:34,722] Trial 86 finished with value: 0.8405063291139241 and parameters: {'classifier': 'random_forest', 'num_classifiers': 28, 'max_depth': 8}. Best is trial 14 with value: 0.8684347373894955.\n",
      "[I 2024-02-22 19:28:34,782] Trial 87 finished with value: 0.8379466532460996 and parameters: {'classifier': 'random_forest', 'num_classifiers': 7, 'max_depth': 30}. Best is trial 14 with value: 0.8684347373894955.\n",
      "[I 2024-02-22 19:28:34,945] Trial 88 finished with value: 0.8583800305654609 and parameters: {'classifier': 'random_forest', 'num_classifiers': 27, 'max_depth': 27}. Best is trial 14 with value: 0.8684347373894955.\n",
      "[I 2024-02-22 19:28:35,121] Trial 89 finished with value: 0.8684347373894955 and parameters: {'classifier': 'random_forest', 'num_classifiers': 30, 'max_depth': 29}. Best is trial 14 with value: 0.8684347373894955.\n",
      "[I 2024-02-22 19:28:40,260] Trial 90 finished with value: 0.0 and parameters: {'classifier': 'neural_network', 'num_layers': 3, 'n_hidden': 25, 'learning_rate': 0.0802881642594608}. Best is trial 14 with value: 0.8684347373894955.\n",
      "[I 2024-02-22 19:28:40,445] Trial 91 finished with value: 0.8684347373894955 and parameters: {'classifier': 'random_forest', 'num_classifiers': 30, 'max_depth': 30}. Best is trial 14 with value: 0.8684347373894955.\n",
      "[I 2024-02-22 19:28:40,628] Trial 92 finished with value: 0.8654340010272213 and parameters: {'classifier': 'random_forest', 'num_classifiers': 29, 'max_depth': 30}. Best is trial 14 with value: 0.8684347373894955.\n",
      "[I 2024-02-22 19:28:40,801] Trial 93 finished with value: 0.8583800305654609 and parameters: {'classifier': 'random_forest', 'num_classifiers': 27, 'max_depth': 29}. Best is trial 14 with value: 0.8684347373894955.\n",
      "[I 2024-02-22 19:28:40,999] Trial 94 finished with value: 0.8684347373894955 and parameters: {'classifier': 'random_forest', 'num_classifiers': 30, 'max_depth': 28}. Best is trial 14 with value: 0.8684347373894955.\n",
      "[I 2024-02-22 19:28:41,179] Trial 95 finished with value: 0.8632345293811753 and parameters: {'classifier': 'random_forest', 'num_classifiers': 28, 'max_depth': 30}. Best is trial 14 with value: 0.8684347373894955.\n",
      "[I 2024-02-22 19:28:41,359] Trial 96 finished with value: 0.8654340010272213 and parameters: {'classifier': 'random_forest', 'num_classifiers': 29, 'max_depth': 28}. Best is trial 14 with value: 0.8684347373894955.\n",
      "[I 2024-02-22 19:28:41,539] Trial 97 finished with value: 0.8684347373894955 and parameters: {'classifier': 'random_forest', 'num_classifiers': 30, 'max_depth': 29}. Best is trial 14 with value: 0.8684347373894955.\n",
      "[I 2024-02-22 19:28:41,715] Trial 98 finished with value: 0.8632345293811753 and parameters: {'classifier': 'random_forest', 'num_classifiers': 28, 'max_depth': 26}. Best is trial 14 with value: 0.8684347373894955.\n",
      "[I 2024-02-22 19:28:41,872] Trial 99 finished with value: 0.8590197069226881 and parameters: {'classifier': 'random_forest', 'num_classifiers': 25, 'max_depth': 27}. Best is trial 14 with value: 0.8684347373894955.\n"
     ]
    }
   ],
   "source": [
    "study = optuna.create_study(direction=\"maximize\")\n",
    "study.optimize(objective, n_trials=100)"
   ]
  },
  {
   "cell_type": "markdown",
   "id": "ddd3bfde-affd-4bfd-a805-c09e5083eb52",
   "metadata": {},
   "source": [
    "Let's check the results..."
   ]
  },
  {
   "cell_type": "code",
   "execution_count": 40,
   "id": "1dc04adb-6472-4f78-bf4f-e4d58e406395",
   "metadata": {},
   "outputs": [],
   "source": [
    "# somehow without .show() hothing works...\n",
    "plot_slice(study).show(renderer=\"browser\")"
   ]
  },
  {
   "cell_type": "markdown",
   "id": "d0995086-fc3e-4362-ab73-cd6ae0372e34",
   "metadata": {},
   "source": [
    "So, the random forest once again beat the neural network in classification problem :)"
   ]
  },
  {
   "cell_type": "markdown",
   "id": "60795325-9e30-4cb4-93df-0e2746b15944",
   "metadata": {},
   "source": [
    "From the first plot we can see that best random forest is better that best NN for almost 0.1."
   ]
  },
  {
   "cell_type": "code",
   "execution_count": 41,
   "id": "8f27405f-7335-4781-985b-c02a7fc89250",
   "metadata": {},
   "outputs": [
    {
     "data": {
      "text/plain": [
       "FrozenTrial(number=14, state=TrialState.COMPLETE, values=[0.8684347373894955], datetime_start=datetime.datetime(2024, 2, 22, 19, 27, 47, 460393), datetime_complete=datetime.datetime(2024, 2, 22, 19, 27, 47, 637483), params={'classifier': 'random_forest', 'num_classifiers': 30, 'max_depth': 23}, user_attrs={}, system_attrs={}, intermediate_values={}, distributions={'classifier': CategoricalDistribution(choices=('neural_network', 'random_forest')), 'num_classifiers': IntDistribution(high=30, log=False, low=2, step=1), 'max_depth': IntDistribution(high=30, log=False, low=2, step=1)}, trial_id=14, value=None)"
      ]
     },
     "execution_count": 41,
     "metadata": {},
     "output_type": "execute_result"
    }
   ],
   "source": [
    "study.best_trial"
   ]
  },
  {
   "cell_type": "markdown",
   "id": "6dcd541f-8785-41ad-9877-1abe9d67d26a",
   "metadata": {},
   "source": [
    "Then we create our final classificator using the best results from optuna"
   ]
  },
  {
   "cell_type": "code",
   "execution_count": 49,
   "id": "70dc5c68-7d27-478f-ac55-aebaabe1ce78",
   "metadata": {},
   "outputs": [
    {
     "name": "stdout",
     "output_type": "stream",
     "text": [
      "For best classifier, F_2 = 0.87. Baseline F_2 = 0.73 .\n"
     ]
    }
   ],
   "source": [
    "model = RandomForestClassifier(n_estimators = 30, max_depth = 23, random_state=1024, verbose=0)\n",
    "model.fit(X_train, y_train)\n",
    "y_hat = model.predict(X_test)\n",
    "print(f\"For best classifier, F_2 = {round(fbeta_score(y_hat, y_test, beta=2), 2)}. Baseline F_2 = 0.73 .\")"
   ]
  },
  {
   "cell_type": "markdown",
   "id": "4036051d-2459-4d92-aec3-71265e12398b",
   "metadata": {},
   "source": [
    "## Task 2.2 – interpretation of the model"
   ]
  },
  {
   "cell_type": "markdown",
   "id": "c2258869-051f-46e6-9030-5a6397a6bc15",
   "metadata": {},
   "source": [
    "Because best model is Random Forest, interpretation is not so hard. To start, let's see what feature is most important based on the decrease in impurity."
   ]
  },
  {
   "cell_type": "code",
   "execution_count": 65,
   "id": "7ea75c42-eb4a-4cb2-a0f1-16ef96a41b97",
   "metadata": {},
   "outputs": [
    {
     "data": {
      "image/png": "[encoded data removed]",
      "text/plain": [
       "<Figure size 432x288 with 1 Axes>"
      ]
     },
     "metadata": {
      "needs_background": "light"
     },
     "output_type": "display_data"
    }
   ],
   "source": [
    "importances = model.feature_importances_\n",
    "\n",
    "std = np.std([tree.feature_importances_ for tree in model.estimators_], axis=0)\n",
    "\n",
    "forest_importances = pd.Series(importances, index=X_train.columns.tolist())\n",
    "fig, ax = plt.subplots()\n",
    "forest_importances.plot.bar(yerr=std, ax=ax)\n",
    "ax.set_title(\"Feature importance\")\n",
    "ax.set_ylabel(\"Mean decrease in impurity\")\n",
    "fig.tight_layout()"
   ]
  },
  {
   "cell_type": "markdown",
   "id": "0f891090-b183-438b-95b4-93fba755cd97",
   "metadata": {},
   "source": [
    "We can see that size, juiciness and ripeness are most important features. It is interesting that size is much more important that weight, actually... These two should be connected because density of apple is roughly same..."
   ]
  },
  {
   "cell_type": "code",
   "execution_count": 67,
   "id": "63714f7a-c56b-45a2-a74c-b9a3e9300e47",
   "metadata": {},
   "outputs": [
    {
     "data": {
      "image/png": "[encoded data removed]",
      "text/plain": [
       "<Figure size 432x288 with 1 Axes>"
      ]
     },
     "metadata": {
      "needs_background": "light"
     },
     "output_type": "display_data"
    }
   ],
   "source": [
    "ftwo_scorer = make_scorer(fbeta_score, beta=2)\n",
    "importances = permutation_importance(model, X_test, y_test, scoring=ftwo_scorer, random_state=1024, n_repeats=10)\n",
    "\n",
    "std = np.std([tree.feature_importances_ for tree in model.estimators_], axis=0)\n",
    "\n",
    "forest_importances = pd.Series(importances['importances_std'], index=X_train.columns.tolist())\n",
    "fig, ax = plt.subplots()\n",
    "forest_importances.plot.bar(yerr=std, ax=ax)\n",
    "ax.set_title(\"Feature importance\")\n",
    "ax.set_ylabel(\"Mean accuracy decrease\")\n",
    "fig.tight_layout()"
   ]
  },
  {
   "cell_type": "markdown",
   "id": "a4c7b73c-86cc-4ca8-91a4-d4498b583343",
   "metadata": {},
   "source": [
    "So, size is one of the most important as in the previous figure. But here we see that acidity, which was one of the most unimportant features in the MDI, now is the one of the most important weatures. However, from both MDI and permutations we see that all features are more or less important equally"
   ]
  },
  {
   "cell_type": "markdown",
   "id": "5c9efbac-e6fa-448d-ad5e-99eccb07f526",
   "metadata": {},
   "source": [
    "## Final words"
   ]
  },
  {
   "cell_type": "code",
   "execution_count": null,
   "id": "cdbc4232-9646-41e8-b918-5e7ab089b5d9",
   "metadata": {},
   "outputs": [],
   "source": [
    "So, to be honest, I am feeling myself kinda strange about the dataset. It is too \"good\" sometimes and gives strange results.."
   ]
  }
 ],
 "metadata": {
  "kernelspec": {
   "display_name": "Python 3 (ipykernel)",
   "language": "python",
   "name": "python3"
  },
  "language_info": {
   "codemirror_mode": {
    "name": "ipython",
    "version": 3
   },
   "file_extension": ".py",
   "mimetype": "text/x-python",
   "name": "python",
   "nbconvert_exporter": "python",
   "pygments_lexer": "ipython3",
   "version": "3.10.4"
  }
 },
 "nbformat": 4,
 "nbformat_minor": 5
}
