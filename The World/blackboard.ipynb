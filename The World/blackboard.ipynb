{
 "cells": [
  {
   "cell_type": "code",
   "execution_count": 1,
   "id": "b0c7c1cc-f4c2-4170-82ed-324a1a46e753",
   "metadata": {},
   "outputs": [],
   "source": [
    "import numpy as np\n",
    "import matplotlib.pyplot as plt"
   ]
  },
  {
   "cell_type": "code",
   "execution_count": 26,
   "id": "8c324262-3b55-4ad2-b8ab-aab3d1e3544e",
   "metadata": {},
   "outputs": [
    {
     "data": {
      "text/plain": [
       "[]"
      ]
     },
     "execution_count": 26,
     "metadata": {},
     "output_type": "execute_result"
    },
    {
     "data": {
      "image/png": "[encoded data removed]",
      "text/plain": [
       "<Figure size 432x288 with 1 Axes>"
      ]
     },
     "metadata": {
      "needs_background": "light"
     },
     "output_type": "display_data"
    }
   ],
   "source": [
    "def radius_error(xn, yn, r):\n",
    "    return abs(xn**2 + yn**2 - r**2)\n",
    "\n",
    "\n",
    "xc = 0; yc = 0; r = 10\n",
    "\n",
    "crd = np.zeros((100, 2))\n",
    "\n",
    "ind = 0\n",
    "crd[ind, :] = [r, 0]\n",
    "while crd[ind, 0] > crd[ind, 1]:\n",
    "    xn = crd[ind, 0]; yn = crd[ind, 1]\n",
    "    if radius_error(xn-1, yn+1, r) < radius_error(xn, yn+1, r):\n",
    "        crd[ind+1, 0] = xn - 1\n",
    "        crd[ind+1, 1] = yn + 1\n",
    "    else:\n",
    "        crd[ind+1, 0] = xn\n",
    "        crd[ind+1, 1] = yn + 1\n",
    "    ind = ind + 1\n",
    "    \n",
    "crd = crd[~np.all(crd == 0, axis=1)]\n",
    "crd1 = np.zeros_like(crd)\n",
    "crd1[:, 0] = crd[:, 1]\n",
    "crd1[:, 1] = crd[:, 0]\n",
    "crd2 = np.unique(np.vstack((crd, crd1)), axis=0)\n",
    "crd3 = - crd2\n",
    "crd4 = np.vstack((crd2, crd3))\n",
    "crd5 = np.zeros_like(crd4)\n",
    "crd5[:, 0] = crd4[:, 0]\n",
    "crd5[:, 1] = - crd4[:, 1]\n",
    "crd_final = np.unique(np.vstack((crd4, crd5)), axis=0)\n",
    "\n",
    "plt.scatter(crd_final[:, 0], crd_final[:, 1])\n",
    "plt.xlim([-(r+1), (r+1)])\n",
    "plt.ylim([-(r+1), (r+1)])\n",
    "plt.gca().set_aspect('equal')\n",
    "plt.plot()"
   ]
  }
 ],
 "metadata": {
  "kernelspec": {
   "display_name": "Python 3 (ipykernel)",
   "language": "python",
   "name": "python3"
  },
  "language_info": {
   "codemirror_mode": {
    "name": "ipython",
    "version": 3
   },
   "file_extension": ".py",
   "mimetype": "text/x-python",
   "name": "python",
   "nbconvert_exporter": "python",
   "pygments_lexer": "ipython3",
   "version": "3.10.4"
  }
 },
 "nbformat": 4,
 "nbformat_minor": 5
}
