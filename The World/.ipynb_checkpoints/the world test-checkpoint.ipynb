{
 "cells": [
  {
   "cell_type": "code",
   "execution_count": 9,
   "id": "4cf64fde-f1aa-4ed0-aa37-27dd434c9534",
   "metadata": {},
   "outputs": [
    {
     "name": "stdout",
     "output_type": "stream",
     "text": [
      "The autoreload extension is already loaded. To reload it, use:\n",
      "  %reload_ext autoreload\n"
     ]
    }
   ],
   "source": [
    "%load_ext autoreload"
   ]
  },
  {
   "cell_type": "code",
   "execution_count": 25,
   "id": "62ae9916-6c01-497c-a86e-0b77715a2140",
   "metadata": {},
   "outputs": [],
   "source": [
    "%autoreload 2\n",
    "import theworld as tw\n",
    "import numpy as np"
   ]
  },
  {
   "cell_type": "code",
   "execution_count": 29,
   "id": "5c7fadac-2c85-48ec-a9ee-330e9edc3ef2",
   "metadata": {},
   "outputs": [
    {
     "ename": "TypeError",
     "evalue": "world.create_entity() missing 1 required positional argument: 'entity_type'",
     "output_type": "error",
     "traceback": [
      "\u001b[0;31m---------------------------------------------------------------------------\u001b[0m",
      "\u001b[0;31mTypeError\u001b[0m                                 Traceback (most recent call last)",
      "Cell \u001b[0;32mIn[29], line 2\u001b[0m\n\u001b[1;32m      1\u001b[0m w \u001b[38;5;241m=\u001b[39m tw\u001b[38;5;241m.\u001b[39mworld([\u001b[38;5;241m10\u001b[39m, \u001b[38;5;241m10\u001b[39m])\n\u001b[0;32m----> 2\u001b[0m \u001b[43mw\u001b[49m\u001b[38;5;241;43m.\u001b[39;49m\u001b[43mcreate_entity\u001b[49m\u001b[43m(\u001b[49m\u001b[43mtw\u001b[49m\u001b[38;5;241;43m.\u001b[39;49m\u001b[43mentity\u001b[49m\u001b[43m(\u001b[49m\u001b[43m)\u001b[49m\u001b[43m)\u001b[49m\n",
      "\u001b[0;31mTypeError\u001b[0m: world.create_entity() missing 1 required positional argument: 'entity_type'"
     ]
    }
   ],
   "source": [
    "w = tw.world([10, 10])\n",
    "w.create_entity([5,5], tw.entity())"
   ]
  },
  {
   "cell_type": "code",
   "execution_count": null,
   "id": "38defecb-65f1-4b90-a3fb-78f7c803441a",
   "metadata": {},
   "outputs": [],
   "source": []
  }
 ],
 "metadata": {
  "kernelspec": {
   "display_name": "Python 3 (ipykernel)",
   "language": "python",
   "name": "python3"
  },
  "language_info": {
   "codemirror_mode": {
    "name": "ipython",
    "version": 3
   },
   "file_extension": ".py",
   "mimetype": "text/x-python",
   "name": "python",
   "nbconvert_exporter": "python",
   "pygments_lexer": "ipython3",
   "version": "3.10.4"
  }
 },
 "nbformat": 4,
 "nbformat_minor": 5
}
