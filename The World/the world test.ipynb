{
 "cells": [
  {
   "cell_type": "code",
   "execution_count": 9,
   "id": "4cf64fde-f1aa-4ed0-aa37-27dd434c9534",
   "metadata": {},
   "outputs": [
    {
     "name": "stdout",
     "output_type": "stream",
     "text": [
      "The autoreload extension is already loaded. To reload it, use:\n",
      "  %reload_ext autoreload\n"
     ]
    }
   ],
   "source": [
    "%load_ext autoreload"
   ]
  },
  {
   "cell_type": "code",
   "execution_count": 36,
   "id": "62ae9916-6c01-497c-a86e-0b77715a2140",
   "metadata": {},
   "outputs": [],
   "source": [
    "%autoreload 2\n",
    "import theworld as tw\n",
    "import numpy as np"
   ]
  },
  {
   "cell_type": "code",
   "execution_count": 43,
   "id": "5c7fadac-2c85-48ec-a9ee-330e9edc3ef2",
   "metadata": {},
   "outputs": [
    {
     "ename": "NameError",
     "evalue": "name 'hitpoints_multiplier' is not defined",
     "output_type": "error",
     "traceback": [
      "\u001b[0;31m---------------------------------------------------------------------------\u001b[0m",
      "\u001b[0;31mNameError\u001b[0m                                 Traceback (most recent call last)",
      "Cell \u001b[0;32mIn[43], line 2\u001b[0m\n\u001b[1;32m      1\u001b[0m w \u001b[38;5;241m=\u001b[39m tw\u001b[38;5;241m.\u001b[39mworld([\u001b[38;5;241m10\u001b[39m, \u001b[38;5;241m10\u001b[39m])\n\u001b[0;32m----> 2\u001b[0m \u001b[43mw\u001b[49m\u001b[38;5;241;43m.\u001b[39;49m\u001b[43mcreate_entity\u001b[49m\u001b[43m(\u001b[49m\u001b[43m[\u001b[49m\u001b[38;5;241;43m5\u001b[39;49m\u001b[43m,\u001b[49m\u001b[38;5;241;43m5\u001b[39;49m\u001b[43m]\u001b[49m\u001b[43m,\u001b[49m\u001b[43m \u001b[49m\u001b[43mtw\u001b[49m\u001b[38;5;241;43m.\u001b[39;49m\u001b[43mcreature\u001b[49m\u001b[43m)\u001b[49m\n\u001b[1;32m      3\u001b[0m \u001b[38;5;28mprint\u001b[39m(w\u001b[38;5;241m.\u001b[39mcells[\u001b[38;5;241m5\u001b[39m,\u001b[38;5;241m5\u001b[39m]\u001b[38;5;241m.\u001b[39mentity_inside)\n",
      "File \u001b[0;32m~/Nextcloud/Study/Self Study/ML for Scientific Data/HW 2/theworld/theworld.py:42\u001b[0m, in \u001b[0;36mcreate_entity\u001b[0;34m(self, xy, entity_type, name, silent, *args, **kwargs)\u001b[0m\n\u001b[1;32m      0\u001b[0m <Error retrieving source code with stack_data see ipython/ipython#13598>\n",
      "File \u001b[0;32m~/Nextcloud/Study/Self Study/ML for Scientific Data/HW 2/theworld/entities.py:76\u001b[0m, in \u001b[0;36mcreature.__init__\u001b[0;34m(self, world, name, xy, csp, label)\u001b[0m\n\u001b[1;32m     74\u001b[0m \u001b[38;5;28msuper\u001b[39m()\u001b[38;5;241m.\u001b[39m\u001b[38;5;21m__init__\u001b[39m(world\u001b[38;5;241m=\u001b[39mworld, name\u001b[38;5;241m=\u001b[39mname, xy\u001b[38;5;241m=\u001b[39mxy)\n\u001b[1;32m     75\u001b[0m \u001b[38;5;28mself\u001b[39m\u001b[38;5;241m.\u001b[39mcsp \u001b[38;5;241m=\u001b[39m csp\n\u001b[0;32m---> 76\u001b[0m \u001b[38;5;28mself\u001b[39m\u001b[38;5;241m.\u001b[39mhitpoints, \u001b[38;5;28mself\u001b[39m\u001b[38;5;241m.\u001b[39mview_dist, \u001b[38;5;28mself\u001b[39m\u001b[38;5;241m.\u001b[39mnum_steps \u001b[38;5;241m=\u001b[39m \u001b[38;5;28mself\u001b[39m\u001b[38;5;241m.\u001b[39mcsp \u001b[38;5;241m*\u001b[39m [\u001b[43mhitpoints_multiplier\u001b[49m, view_dist_multiplier, num_steps_multiplier]\n\u001b[1;32m     77\u001b[0m \u001b[38;5;28mself\u001b[39m\u001b[38;5;241m.\u001b[39mlabel \u001b[38;5;241m=\u001b[39m label\n",
      "\u001b[0;31mNameError\u001b[0m: name 'hitpoints_multiplier' is not defined"
     ]
    }
   ],
   "source": [
    "w = tw.world([10, 10])\n",
    "w.create_entity([5,5], tw.creature)\n",
    "print(w.cells[5,5].entity_inside)"
   ]
  },
  {
   "cell_type": "code",
   "execution_count": 38,
   "id": "38defecb-65f1-4b90-a3fb-78f7c803441a",
   "metadata": {},
   "outputs": [
    {
     "name": "stdout",
     "output_type": "stream",
     "text": [
      "An entity named 000 in the world World \"main\" with 1 and shape (10, 10) at [5, 5]\n"
     ]
    }
   ],
   "source": []
  },
  {
   "cell_type": "code",
   "execution_count": null,
   "id": "2bd50dcf-0d46-4e7e-922b-02cb2cdedf04",
   "metadata": {},
   "outputs": [],
   "source": []
  }
 ],
 "metadata": {
  "kernelspec": {
   "display_name": "Python 3 (ipykernel)",
   "language": "python",
   "name": "python3"
  },
  "language_info": {
   "codemirror_mode": {
    "name": "ipython",
    "version": 3
   },
   "file_extension": ".py",
   "mimetype": "text/x-python",
   "name": "python",
   "nbconvert_exporter": "python",
   "pygments_lexer": "ipython3",
   "version": "3.10.4"
  }
 },
 "nbformat": 4,
 "nbformat_minor": 5
}
